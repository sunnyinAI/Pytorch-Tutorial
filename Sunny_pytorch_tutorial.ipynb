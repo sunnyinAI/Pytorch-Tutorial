{
  "cells": [
    {
      "cell_type": "markdown",
      "metadata": {
        "id": "view-in-github",
        "colab_type": "text"
      },
      "source": [
        "<a href=\"https://colab.research.google.com/github/sunnyinAI/Pytorch-Tutorial/blob/main/Sunny_pytorch_tutorial.ipynb\" target=\"_parent\"><img src=\"https://colab.research.google.com/assets/colab-badge.svg\" alt=\"Open In Colab\"/></a>"
      ]
    },
    {
      "cell_type": "code",
      "execution_count": 54,
      "metadata": {
        "id": "2x-0btgwXNSB"
      },
      "outputs": [],
      "source": [
        "%matplotlib inline"
      ]
    },
    {
      "cell_type": "markdown",
      "metadata": {
        "id": "al68pu8QXNSQ"
      },
      "source": [
        "## PyTorch Basics\n",
        "### What is PyTorch?\n",
        "It is a **replacement for NumPy** to use the power of GPUs, and a **deep learning research platform** that provides maximum flexibility and speed ([source](https://pytorch.org/tutorials/beginner/blitz/tensor_tutorial.html#sphx-glr-beginner-blitz-tensor-tutorial-py)).\n",
        "\n",
        "You can create a [PyTorch tensor](https://pytorch.org/docs/stable/tensors.html) in a similary way that you create a NumPy ndarray:"
      ]
    },
    {
      "cell_type": "code",
      "execution_count": 55,
      "metadata": {
        "id": "lwuvlBA0XNSW",
        "colab": {
          "base_uri": "https://localhost:8080/"
        },
        "outputId": "1de17bab-63a5-49ee-8323-5ec8d8a0fa7c"
      },
      "outputs": [
        {
          "output_type": "stream",
          "name": "stdout",
          "text": [
            "torch version: 2.0.0+cu118\n",
            "\n",
            "Create a zero ndarray in NumPy:\n",
            "[[0. 0. 0.]\n",
            " [0. 0. 0.]]\n",
            "\n",
            "Create a zero tensor in PyTorch:\n",
            "tensor([[0., 0., 0.],\n",
            "        [0., 0., 0.]])\n"
          ]
        }
      ],
      "source": [
        "#Creating a Zero Tensor in Numpy & Pytorch\n",
        "\n",
        "import numpy as np\n",
        "import torch\n",
        "print(\"torch version:\", torch.__version__) # please use pytorch 1.0\n",
        "\n",
        "#Numpy\n",
        "print('\\nCreate a zero ndarray in NumPy:')\n",
        "zero_np = np.zeros([2, 3])\n",
        "print(zero_np)\n",
        "\n",
        "#Pytorch\n",
        "print('\\nCreate a zero tensor in PyTorch:')\n",
        "zero_pt = torch.zeros([2,3])\n",
        "print(zero_pt)"
      ]
    },
    {
      "cell_type": "markdown",
      "metadata": {
        "id": "v_3cuJHaXNSZ"
      },
      "source": [
        "You can index into the tensor the same way you index a ndarray:"
      ]
    },
    {
      "cell_type": "code",
      "execution_count": 56,
      "metadata": {
        "id": "8Ry_edNXXNSb",
        "colab": {
          "base_uri": "https://localhost:8080/"
        },
        "outputId": "b28de27a-1020-48b8-8932-3063fb722103"
      },
      "outputs": [
        {
          "output_type": "stream",
          "name": "stdout",
          "text": [
            "numpy: zero_np[0,1]: 0.0\t(type: <class 'numpy.float64'>)\n",
            "torch: zero_pt[0,1]: tensor(0.)\t(type: <class 'torch.Tensor'> / shape: torch.Size([]))\n",
            "       zero_pt[0,1].item(): 0.0\t(type: <class 'float'>)\n"
          ]
        }
      ],
      "source": [
        "# Indexing in Numpy & Pytorch\n",
        "\n",
        "print(\"numpy: zero_np[0,1]: {}\\t(type: {})\".format(str(zero_np[0,1]), type(zero_np[0,1])))\n",
        "print(\"torch: zero_pt[0,1]: {}\\t(type: {} / shape: {})\".format(str(zero_pt[0,1]), type(zero_pt[0,1]), zero_pt[0,1].shape))\n",
        "\n",
        "# Use \".item()\" to get a Actual Value/Python number from a single-valued tensor.\n",
        "print(\"       zero_pt[0,1].item(): {}\\t(type: {})\".format(zero_pt[0,1].item(), type(zero_pt[0,1].item())))"
      ]
    },
    {
      "cell_type": "markdown",
      "source": [
        "###Difference: \n",
        "\n",
        "*   For Numpy along with Numpy Array we get class/data type of Numpy array"
      ],
      "metadata": {
        "id": "DoCzSimsBL-9"
      }
    },
    {
      "cell_type": "markdown",
      "metadata": {
        "id": "oGGutaF8XNSd"
      },
      "source": [
        "A ndarray can be turned into a tensor, and vice versa:"
      ]
    },
    {
      "cell_type": "code",
      "execution_count": 57,
      "metadata": {
        "id": "fJkTztSLXNSf",
        "colab": {
          "base_uri": "https://localhost:8080/"
        },
        "outputId": "a58f0938-fe04-4141-b983-0e9bd0e26ab9"
      },
      "outputs": [
        {
          "output_type": "stream",
          "name": "stdout",
          "text": [
            "Turn a ndarray into a tensor with \"torch.tensor()\":\n",
            "tensor([[0., 0., 0.],\n",
            "        [0., 0., 0.]], dtype=torch.float64)\n",
            "or \"torch.from_numpy():\"\n",
            "tensor([[0., 0., 0.],\n",
            "        [0., 0., 0.]], dtype=torch.float64)\n",
            "\n",
            "Turn a tensor into ndarray with \".numpy()\":\n",
            "[[0. 0. 0.]\n",
            " [0. 0. 0.]]\n",
            "<class 'numpy.ndarray'>\n"
          ]
        }
      ],
      "source": [
        "# Numpy array from Pytorch Tensor \n",
        "  # using torch.tensor()\n",
        "\n",
        "print('Turn a ndarray into a tensor with \"torch.tensor()\":')\n",
        "zero_pt_from_np = torch.tensor(zero_np)\n",
        "print(zero_pt_from_np)\n",
        "\n",
        "  # or using torch.from_numpy()\n",
        "print('or \"torch.from_numpy():\"')\n",
        "zero_pt_from_np = torch.from_numpy(zero_np)\n",
        "print(zero_pt_from_np)\n",
        "\n",
        "# Pytorch Tensor from Numpy Array using .numpy()\n",
        "print('\\nTurn a tensor into ndarray with \".numpy()\":')\n",
        "zero_np_from_pt = zero_pt.numpy()\n",
        "print(zero_np_from_pt)\n",
        "print(type(zero_np_from_pt))"
      ]
    },
    {
      "cell_type": "markdown",
      "metadata": {
        "id": "64fa58PbXNSj"
      },
      "source": [
        "The design of PyTorch allows it to better utilize GPUs. Upon creation, a PyTorch tensor resides on the CPU. You can move a tensor across devices using `.to()`:"
      ]
    },
    {
      "cell_type": "code",
      "execution_count": 58,
      "metadata": {
        "id": "tkAYW7IjXNSm",
        "colab": {
          "base_uri": "https://localhost:8080/"
        },
        "outputId": "31aba06c-5464-4c7b-c9ff-1c3733336960"
      },
      "outputs": [
        {
          "output_type": "stream",
          "name": "stdout",
          "text": [
            "Initial device:\t'cpu'\n"
          ]
        }
      ],
      "source": [
        "# By default Pytorch tensor stored to CPU\n",
        "t = torch.randn(2)\n",
        "print(\"Initial device:\\t'{}'\".format(t.device))"
      ]
    },
    {
      "cell_type": "code",
      "execution_count": 59,
      "metadata": {
        "id": "Y4SzbbrWXNSp",
        "colab": {
          "base_uri": "https://localhost:8080/"
        },
        "outputId": "e8f92493-ae92-4ba8-854e-fe9c243497b4"
      },
      "outputs": [
        {
          "output_type": "stream",
          "name": "stdout",
          "text": [
            "Move to gpu:\t'cuda:0'\n"
          ]
        }
      ],
      "source": [
        "# Moving Pytorch Tensor to CUDA using .to()\n",
        "t = t.to('cuda:0')\n",
        "print(\"Move to gpu:\\t'{}'\".format(t.device))"
      ]
    },
    {
      "cell_type": "code",
      "execution_count": 60,
      "metadata": {
        "id": "SEH6SY9uXNSs",
        "colab": {
          "base_uri": "https://localhost:8080/"
        },
        "outputId": "85e32781-aa14-4e01-d460-d1113514d2a4"
      },
      "outputs": [
        {
          "output_type": "stream",
          "name": "stdout",
          "text": [
            "Back to cpu:\t'cpu'\n"
          ]
        },
        {
          "output_type": "execute_result",
          "data": {
            "text/plain": [
              "array([-0.11146712,  0.12036294], dtype=float32)"
            ]
          },
          "metadata": {},
          "execution_count": 60
        }
      ],
      "source": [
        "# Moving Pytorch Tensor back to CPU using .to()\n",
        "t = t.to('cpu')\n",
        "print(\"Back to cpu:\\t'{}'\".format(t.device))\n",
        "# Why bother?\n",
        "t.numpy()"
      ]
    },
    {
      "cell_type": "markdown",
      "metadata": {
        "id": "qK1bf5z7XNSu"
      },
      "source": [
        "\n",
        "Training an MNIST Classifier\n",
        "=====\n",
        "## Custom Dataset, Model Checkpointing, and Fine-tune"
      ]
    },
    {
      "cell_type": "code",
      "execution_count": 61,
      "metadata": {
        "id": "1zwxPM55XNSw"
      },
      "outputs": [],
      "source": [
        "import torch.nn as nn            # containing building blocks for the NN\n",
        "import torch.optim as optim      # implementing various optz Algo\n",
        "import torch.nn.functional as F  # a lower level (compared to torch.nn) interface\n",
        "import torchvision               # torchvision: popular datasets, model architectures, and common image transformations for CV.\n",
        "import torchvision.transforms as transforms # transforms: transformations useful for image processing\n",
        "\n",
        "\n",
        "from torch.utils.data import Dataset, DataLoader  #for custom dataset we need two utility Dataset & Dataloader\n",
        "import glob\n",
        "import os.path as osp\n",
        "import numpy as np\n",
        "from PIL import Image #Python Imaging Library"
      ]
    },
    {
      "cell_type": "markdown",
      "metadata": {
        "id": "sg3c56qOXNSy"
      },
      "source": [
        "## 1. Custom Dataset\n",
        "PyTorch has many built-in datasets such as MNIST and CIFAR. In this tutorial, we demonstrate how to write your own dataset by implementing a custom MNIST dataset class. Use [this link](https://github.com/myleott/mnist_png/blob/master/mnist_png.tar.gz?raw=true) to download the mnist png dataset.\n",
        "\n",
        "If you are on GCloud, you can run these commands:\n",
        "\n",
        "`wget https://github.com/myleott/mnist_png/blob/master/mnist_png.tar.gz?raw=true`\n",
        "\n",
        "`mv mnist_png.tar.gz?raw=true mnist_png.tar.gz`\n",
        "\n",
        "`tar -xzf mnist_png.tar.gz`"
      ]
    },
    {
      "cell_type": "code",
      "source": [
        "#Creating custom by having a subset of MNIST\n",
        "\n",
        "!wget https://github.com/myleott/mnist_png/blob/master/mnist_png.tar.gz?raw=true\n",
        "\n",
        "!mv mnist_png.tar.gz?raw=true mnist_png.tar.gz\n",
        "\n",
        "!tar -xzf mnist_png.tar.gz"
      ],
      "metadata": {
        "id": "5wUYirPMY_Tq",
        "colab": {
          "base_uri": "https://localhost:8080/"
        },
        "outputId": "f33ee09d-389d-48de-94df-cb53ca3071ef"
      },
      "execution_count": 62,
      "outputs": [
        {
          "output_type": "stream",
          "name": "stdout",
          "text": [
            "--2023-05-04 19:38:07--  https://github.com/myleott/mnist_png/blob/master/mnist_png.tar.gz?raw=true\n",
            "Resolving github.com (github.com)... 140.82.114.4\n",
            "Connecting to github.com (github.com)|140.82.114.4|:443... connected.\n",
            "HTTP request sent, awaiting response... 302 Found\n",
            "Location: https://github.com/myleott/mnist_png/raw/master/mnist_png.tar.gz [following]\n",
            "--2023-05-04 19:38:07--  https://github.com/myleott/mnist_png/raw/master/mnist_png.tar.gz\n",
            "Reusing existing connection to github.com:443.\n",
            "HTTP request sent, awaiting response... 302 Found\n",
            "Location: https://raw.githubusercontent.com/myleott/mnist_png/master/mnist_png.tar.gz [following]\n",
            "--2023-05-04 19:38:08--  https://raw.githubusercontent.com/myleott/mnist_png/master/mnist_png.tar.gz\n",
            "Resolving raw.githubusercontent.com (raw.githubusercontent.com)... 185.199.108.133, 185.199.109.133, 185.199.110.133, ...\n",
            "Connecting to raw.githubusercontent.com (raw.githubusercontent.com)|185.199.108.133|:443... connected.\n",
            "HTTP request sent, awaiting response... 200 OK\n",
            "Length: 15683414 (15M) [application/octet-stream]\n",
            "Saving to: ‘mnist_png.tar.gz?raw=true’\n",
            "\n",
            "mnist_png.tar.gz?ra 100%[===================>]  14.96M  57.7MB/s    in 0.3s    \n",
            "\n",
            "2023-05-04 19:38:08 (57.7 MB/s) - ‘mnist_png.tar.gz?raw=true’ saved [15683414/15683414]\n",
            "\n"
          ]
        }
      ]
    },
    {
      "cell_type": "code",
      "execution_count": 63,
      "metadata": {
        "id": "l8Bn33CIXNS0"
      },
      "outputs": [],
      "source": [
        "class MNIST(Dataset):   #MNIST Class with 3 functions init,getitem & len defining custom dataloader\n",
        "    \"\"\" \n",
        "    A customized data loader for MNIST.\n",
        "    \"\"\"\n",
        "    def __init__(self,\n",
        "                 root,\n",
        "                 transform=None,\n",
        "                 preload=False):\n",
        "        \"\"\" Intialize the MNIST dataset\n",
        "        \n",
        "        Args:\n",
        "            - root: root directory of the dataset\n",
        "            - tranform: a custom tranform function for PIL to Torch tensor\n",
        "            - preload: if preload the dataset into memory to save time\n",
        "        \"\"\"\n",
        "        self.images = None\n",
        "        self.labels = None\n",
        "        self.filenames = []\n",
        "        self.root = root\n",
        "        self.transform = transform\n",
        "\n",
        "        # read filenames\n",
        "        for i in range(10):\n",
        "            filenames = glob.glob(osp.join(root, str(i), '*.png'))\n",
        "            for fn in filenames:\n",
        "                self.filenames.append((fn, i)) # (filename, label) pair\n",
        "                \n",
        "        # if preload dataset into memory\n",
        "        if preload:\n",
        "            self._preload()\n",
        "            \n",
        "        self.len = len(self.filenames)\n",
        "                              \n",
        "    def _preload(self):\n",
        "        \"\"\"\n",
        "        Preload dataset to memory\n",
        "        \"\"\"\n",
        "        self.labels = []\n",
        "        self.images = []\n",
        "        for image_fn, label in self.filenames:            \n",
        "            # load images\n",
        "            image = Image.open(image_fn)\n",
        "            self.images.append(image.copy())\n",
        "            # avoid too many opened files bug\n",
        "            image.close()\n",
        "            self.labels.append(label)\n",
        "\n",
        "    # probably the most important to customize.\n",
        "    def __getitem__(self, index):\n",
        "        \"\"\" Get a index of sample from the dataset to apply transform\n",
        "        \"\"\"\n",
        "        if self.images is not None:\n",
        "            # If dataset is preloaded\n",
        "            image = self.images[index]\n",
        "            label = self.labels[index]\n",
        "        else:\n",
        "            # If on-demand data loading\n",
        "            image_fn, label = self.filenames[index]\n",
        "            image = Image.open(image_fn)\n",
        "            \n",
        "        # May use transform function to transform samples\n",
        "        # e.g., random crop, whitening\n",
        "        if self.transform is not None:\n",
        "            image = self.transform(image)\n",
        "        # return image and label\n",
        "        return image, label       #in Torch Tensor form.\n",
        "\n",
        "    def __len__(self):\n",
        "        \"\"\"\n",
        "        Total number of samples in the dataset\n",
        "        \"\"\"\n",
        "        return self.len"
      ]
    },
    {
      "cell_type": "code",
      "execution_count": 64,
      "metadata": {
        "id": "2apjnGt9XNS5"
      },
      "outputs": [],
      "source": [
        "# Create the MNIST dataset. \n",
        "# transforms.ToTensor() automatically converts PIL images to\n",
        "# torch tensors with range [0, 1]\n",
        "trainset = MNIST(\n",
        "    root='mnist_png/training',\n",
        "    preload=True, transform=transforms.ToTensor(),\n",
        ")\n",
        "\n",
        "# Use the torch dataloader to iterate through the dataset\n",
        "# We want the dataset to be shuffled during training.\n",
        "trainset_loader = DataLoader(trainset, batch_size=64, shuffle=True, num_workers=1)\n",
        "\n",
        "# Load the testset\n",
        "testset = MNIST(\n",
        "    root='mnist_png/testing',\n",
        "    preload=True, transform=transforms.ToTensor(),\n",
        ")\n",
        "# Use the torch dataloader to iterate through the dataset\n",
        "testset_loader = DataLoader(testset, batch_size=1000, shuffle=False, num_workers=1)"
      ]
    },
    {
      "cell_type": "code",
      "execution_count": 65,
      "metadata": {
        "id": "f_9gs6jEXNS9",
        "colab": {
          "base_uri": "https://localhost:8080/"
        },
        "outputId": "35d03ee8-37f9-48a6-eea0-1eb094906d92"
      },
      "outputs": [
        {
          "output_type": "stream",
          "name": "stdout",
          "text": [
            "60000\n",
            "10000\n"
          ]
        }
      ],
      "source": [
        "print(len(trainset)) # len = 60000\n",
        "print(len(testset))  # len = 10000"
      ]
    },
    {
      "cell_type": "markdown",
      "metadata": {
        "id": "F8Bjxca9XNS-"
      },
      "source": [
        "### Visualize the dataset"
      ]
    },
    {
      "cell_type": "code",
      "execution_count": 66,
      "metadata": {
        "id": "ukL7dv7GXNS_",
        "colab": {
          "base_uri": "https://localhost:8080/",
          "height": 453
        },
        "outputId": "ca184314-c6a3-476f-e1dc-e9e3b597371f"
      },
      "outputs": [
        {
          "output_type": "stream",
          "name": "stdout",
          "text": [
            "tensor(1) tensor(1) tensor(3) tensor(1) tensor(1) tensor(3) tensor(6) tensor(4) tensor(5) tensor(2) tensor(9) tensor(0) tensor(0) tensor(8) tensor(9) tensor(0)\n"
          ]
        },
        {
          "output_type": "display_data",
          "data": {
            "text/plain": [
              "<Figure size 640x480 with 1 Axes>"
            ],
            "image/png": "[encoded data removed]"
          },
          "metadata": {}
        }
      ],
      "source": [
        "import matplotlib.pyplot as plt\n",
        "\n",
        "# functions to show an image\n",
        "def imshow(img):\n",
        "    npimg = img.numpy()\n",
        "    plt.imshow(np.transpose(npimg, (1, 2, 0)))\n",
        "\n",
        "# get some random training images\n",
        "dataiter = iter(trainset_loader)\n",
        "images, labels = next(dataiter)\n",
        "\n",
        "# show images\n",
        "imshow(torchvision.utils.make_grid(images))\n",
        "# print labels\n",
        "print(' '.join('%5s' % labels[j] for j in range(16)))"
      ]
    },
    {
      "cell_type": "code",
      "execution_count": 67,
      "metadata": {
        "id": "5DyvTEg8XNTA",
        "colab": {
          "base_uri": "https://localhost:8080/"
        },
        "outputId": "783c4823-2dd2-4e89-e8de-951232f96481"
      },
      "outputs": [
        {
          "output_type": "stream",
          "name": "stdout",
          "text": [
            "cuda\n"
          ]
        }
      ],
      "source": [
        "# Use GPU if available, otherwise stick with cpu\n",
        "use_cuda = torch.cuda.is_available()\n",
        "torch.manual_seed(123)\n",
        "device = torch.device(\"cuda\" if use_cuda else \"cpu\")\n",
        "print(device)"
      ]
    },
    {
      "cell_type": "markdown",
      "metadata": {
        "id": "HpN12XL-XNTK"
      },
      "source": [
        "### Define a Conv Net\n"
      ]
    },
    {
      "cell_type": "code",
      "source": [
        "class Net(nn.Module):\n",
        "    def __init__(self):\n",
        "        super(Net, self).__init__()\n",
        "        \n",
        "        # Conv2d(in_channels, out_channels, kernel_size, stride=1, padding=0,\n",
        "        #        dilation=1, groups=1, bias=True, padding_mode='zeros')\n",
        "        self.conv1 = nn.Conv2d(1, 10, kernel_size=5)\n",
        "        self.conv2 = nn.Conv2d(10, 20, kernel_size=5)\n",
        "        self.conv2_drop = nn.Dropout2d()\n",
        "        \n",
        "        # Linear(in_features, out_features, bias=True)\n",
        "        self.fc1 = nn.Linear(320, 50)\n",
        "        self.fc2 = nn.Linear(50, 10)\n",
        "        \n",
        "        # MaxPool2d(kernel_size, stride=None, padding=0, dilation=1, return_indices=False, ceil_mode=False)\n",
        "        self.max_pool = nn.MaxPool2d(2)\n",
        "        # ReLU(inplace=False)\n",
        "        self.relu = nn.ReLU()\n",
        "\n",
        "    def forward(self, x):\n",
        "        # Note: the following two ways for max pooling / relu are equivalent.\n",
        "        # 1) with torch.nn.functional:\n",
        "        x = F.relu(F.max_pool2d(self.conv1(x), 2))\n",
        "        # 2) with torch.nn:\n",
        "        x = self.relu(self.max_pool(self.conv2_drop(self.conv2(x))))\n",
        "        x = x.view(-1, 320)\n",
        "        x = F.relu(self.fc1(x))\n",
        "        x = F.dropout(x, training=self.training)\n",
        "        x = self.fc2(x)\n",
        "        return F.log_softmax(x, dim=1)\n",
        "\n",
        "model = Net().to(device)\n",
        "optimizer = optim.SGD(model.parameters(), lr=0.001, momentum=0.9)"
      ],
      "metadata": {
        "id": "u6KDLJEbRWYo"
      },
      "execution_count": 68,
      "outputs": []
    },
    {
      "cell_type": "markdown",
      "metadata": {
        "id": "MZVQ6coxXNTM"
      },
      "source": [
        "### Train the network"
      ]
    },
    {
      "cell_type": "code",
      "execution_count": 69,
      "metadata": {
        "id": "VrUtz7cuXNTO"
      },
      "outputs": [],
      "source": [
        "#Defining Model & Optimizer\n",
        "\n",
        "from time import time\n",
        "def train(epoch, log_interval=100):\n",
        "    model.train()  # set training mode\n",
        "    iteration = 0\n",
        "    for ep in range(epoch):\n",
        "        start = time()\n",
        "        for batch_idx, (data, target) in enumerate(trainset_loader):\n",
        "            # bring data to the computing device, e.g. GPU\n",
        "            data, target = data.to(device), target.to(device)\n",
        "\n",
        "            # forward pass\n",
        "            output = model(data)\n",
        "            # compute loss: negative log-likelihood\n",
        "            loss = F.nll_loss(output, target)\n",
        "            \n",
        "            # backward pass\n",
        "            # clear the gradients of all tensors being optimized.\n",
        "            optimizer.zero_grad()\n",
        "            # accumulate (i.e. add) the gradients from this forward pass\n",
        "            loss.backward()\n",
        "            # performs a single optimization step (parameter update)\n",
        "            optimizer.step()\n",
        "            \n",
        "            if iteration % log_interval == 0:\n",
        "                print('Train Epoch: {} [{}/{} ({:.0f}%)]\\tLoss: {:.6f}'.format(\n",
        "                    ep, batch_idx * len(data), len(trainset_loader.dataset),\n",
        "                    100. * batch_idx / len(trainset_loader), loss.item()))\n",
        "            iteration += 1\n",
        "            \n",
        "        end = time()\n",
        "        print('{:.2f}s'.format(end-start))\n",
        "        test() # evaluate at the end of epoch"
      ]
    },
    {
      "cell_type": "code",
      "execution_count": 70,
      "metadata": {
        "id": "RUc16MrhXNTP"
      },
      "outputs": [],
      "source": [
        "def test():\n",
        "    model.eval()  # set evaluation mode\n",
        "    test_loss = 0\n",
        "    correct = 0\n",
        "    with torch.no_grad():\n",
        "        for data, target in testset_loader:\n",
        "            data, target = data.to(device), target.to(device)\n",
        "            output = model(data)\n",
        "            test_loss += F.nll_loss(output, target, size_average=False).item() # sum up batch loss\n",
        "            pred = output.max(1, keepdim=True)[1] # get the index of the max log-probability\n",
        "            correct += pred.eq(target.view_as(pred)).sum().item()\n",
        "\n",
        "    test_loss /= len(testset_loader.dataset)\n",
        "    print('\\nTest set: Average loss: {:.4f}, Accuracy: {}/{} ({:.0f}%)\\n'.format(\n",
        "        test_loss, correct, len(testset_loader.dataset),\n",
        "        100. * correct / len(testset_loader.dataset)))"
      ]
    },
    {
      "cell_type": "code",
      "execution_count": 71,
      "metadata": {
        "id": "DZ4bfgHKXNTR",
        "colab": {
          "base_uri": "https://localhost:8080/"
        },
        "outputId": "15f6e8af-9aa4-45f8-d81e-dc8dd5a087c5"
      },
      "outputs": [
        {
          "output_type": "stream",
          "name": "stdout",
          "text": [
            "Train Epoch: 0 [0/60000 (0%)]\tLoss: 2.301858\n",
            "Train Epoch: 0 [6400/60000 (11%)]\tLoss: 2.294183\n",
            "Train Epoch: 0 [12800/60000 (21%)]\tLoss: 2.269844\n",
            "Train Epoch: 0 [19200/60000 (32%)]\tLoss: 2.249490\n",
            "Train Epoch: 0 [25600/60000 (43%)]\tLoss: 2.182451\n",
            "Train Epoch: 0 [32000/60000 (53%)]\tLoss: 2.103420\n",
            "Train Epoch: 0 [38400/60000 (64%)]\tLoss: 1.627588\n",
            "Train Epoch: 0 [44800/60000 (75%)]\tLoss: 1.525702\n",
            "Train Epoch: 0 [51200/60000 (85%)]\tLoss: 1.344827\n",
            "Train Epoch: 0 [57600/60000 (96%)]\tLoss: 1.069055\n",
            "9.79s\n"
          ]
        },
        {
          "output_type": "stream",
          "name": "stderr",
          "text": [
            "/usr/local/lib/python3.10/dist-packages/torch/nn/_reduction.py:42: UserWarning: size_average and reduce args will be deprecated, please use reduction='sum' instead.\n",
            "  warnings.warn(warning.format(ret))\n"
          ]
        },
        {
          "output_type": "stream",
          "name": "stdout",
          "text": [
            "\n",
            "Test set: Average loss: 0.7073, Accuracy: 8092/10000 (81%)\n",
            "\n",
            "Train Epoch: 1 [3968/60000 (7%)]\tLoss: 0.511919\n",
            "Train Epoch: 1 [10368/60000 (17%)]\tLoss: 0.363290\n",
            "Train Epoch: 1 [16768/60000 (28%)]\tLoss: 0.578062\n",
            "Train Epoch: 1 [23168/60000 (39%)]\tLoss: 0.437739\n",
            "Train Epoch: 1 [29568/60000 (49%)]\tLoss: 0.369030\n",
            "Train Epoch: 1 [35968/60000 (60%)]\tLoss: 0.291899\n",
            "Train Epoch: 1 [42368/60000 (71%)]\tLoss: 0.404644\n",
            "Train Epoch: 1 [48768/60000 (81%)]\tLoss: 0.311559\n",
            "Train Epoch: 1 [55168/60000 (92%)]\tLoss: 0.161639\n",
            "8.81s\n",
            "\n",
            "Test set: Average loss: 0.2343, Accuracy: 9323/10000 (93%)\n",
            "\n",
            "Train Epoch: 2 [1536/60000 (3%)]\tLoss: 0.254091\n",
            "Train Epoch: 2 [7936/60000 (13%)]\tLoss: 0.407737\n",
            "Train Epoch: 2 [14336/60000 (24%)]\tLoss: 0.240925\n",
            "Train Epoch: 2 [20736/60000 (35%)]\tLoss: 0.141338\n",
            "Train Epoch: 2 [27136/60000 (45%)]\tLoss: 0.152847\n",
            "Train Epoch: 2 [33536/60000 (56%)]\tLoss: 0.111064\n",
            "Train Epoch: 2 [39936/60000 (67%)]\tLoss: 0.319166\n",
            "Train Epoch: 2 [46336/60000 (77%)]\tLoss: 0.101340\n",
            "Train Epoch: 2 [52736/60000 (88%)]\tLoss: 0.231234\n",
            "Train Epoch: 2 [59136/60000 (99%)]\tLoss: 0.084714\n",
            "8.65s\n",
            "\n",
            "Test set: Average loss: 0.1561, Accuracy: 9513/10000 (95%)\n",
            "\n",
            "Train Epoch: 3 [5504/60000 (9%)]\tLoss: 0.117400\n",
            "Train Epoch: 3 [11904/60000 (20%)]\tLoss: 0.055812\n",
            "Train Epoch: 3 [18304/60000 (30%)]\tLoss: 0.079491\n",
            "Train Epoch: 3 [24704/60000 (41%)]\tLoss: 0.145976\n",
            "Train Epoch: 3 [31104/60000 (52%)]\tLoss: 0.284494\n",
            "Train Epoch: 3 [37504/60000 (62%)]\tLoss: 0.142426\n",
            "Train Epoch: 3 [43904/60000 (73%)]\tLoss: 0.134014\n",
            "Train Epoch: 3 [50304/60000 (84%)]\tLoss: 0.226929\n",
            "Train Epoch: 3 [56704/60000 (94%)]\tLoss: 0.127134\n",
            "8.69s\n",
            "\n",
            "Test set: Average loss: 0.1248, Accuracy: 9625/10000 (96%)\n",
            "\n",
            "Train Epoch: 4 [3072/60000 (5%)]\tLoss: 0.159010\n",
            "Train Epoch: 4 [9472/60000 (16%)]\tLoss: 0.097994\n",
            "Train Epoch: 4 [15872/60000 (26%)]\tLoss: 0.056801\n",
            "Train Epoch: 4 [22272/60000 (37%)]\tLoss: 0.150256\n",
            "Train Epoch: 4 [28672/60000 (48%)]\tLoss: 0.068380\n",
            "Train Epoch: 4 [35072/60000 (58%)]\tLoss: 0.063131\n",
            "Train Epoch: 4 [41472/60000 (69%)]\tLoss: 0.065032\n",
            "Train Epoch: 4 [47872/60000 (80%)]\tLoss: 0.177851\n",
            "Train Epoch: 4 [54272/60000 (90%)]\tLoss: 0.146726\n",
            "8.29s\n",
            "\n",
            "Test set: Average loss: 0.1003, Accuracy: 9693/10000 (97%)\n",
            "\n"
          ]
        }
      ],
      "source": [
        "train(5)  # train 5 epochs should get you to about 97% accuracy"
      ]
    },
    {
      "cell_type": "markdown",
      "metadata": {
        "id": "oK46jAdcXNTS"
      },
      "source": [
        "## 2. Save the model (model checkpointing)\n",
        "\n",
        "Now we have trained a model! Obviously we do not want to retrain the model everytime we want to use it. Plus if you are training a super big model, you probably want to save checkpoint periodically so that you can always fall back to the last checkpoint in case something bad happened or you simply want to test models at different training iterations.\n",
        "\n",
        "Model checkpointing is fairly simple in PyTorch. First, we define a helper function that can save a model to the disk"
      ]
    },
    {
      "cell_type": "code",
      "execution_count": 72,
      "metadata": {
        "id": "LCYZMqU8XNTT"
      },
      "outputs": [],
      "source": [
        "def save_checkpoint(checkpoint_path, model, optimizer):\n",
        "    # state_dict: a Python dictionary object that:\n",
        "    # - for a model, maps each layer to its parameter tensor;\n",
        "    # - for an optimizer, contains info about the optimizer’s states and hyperparameters used.\n",
        "    state = {\n",
        "        'state_dict': model.state_dict(),\n",
        "        'optimizer' : optimizer.state_dict()}\n",
        "    torch.save(state, checkpoint_path)\n",
        "    print('model saved to %s' % checkpoint_path)\n",
        "    \n",
        "def load_checkpoint(checkpoint_path, model, optimizer):\n",
        "    state = torch.load(checkpoint_path)\n",
        "    model.load_state_dict(state['state_dict'])\n",
        "    optimizer.load_state_dict(state['optimizer'])\n",
        "    print('model loaded from %s' % checkpoint_path)"
      ]
    },
    {
      "cell_type": "code",
      "execution_count": 73,
      "metadata": {
        "id": "51WIAqp-XNTX",
        "colab": {
          "base_uri": "https://localhost:8080/"
        },
        "outputId": "9aca5d7c-368c-495c-9c8c-a94546de2718"
      },
      "outputs": [
        {
          "output_type": "stream",
          "name": "stdout",
          "text": [
            "\n",
            "Test set: Average loss: 2.3032, Accuracy: 1038/10000 (10%)\n",
            "\n"
          ]
        }
      ],
      "source": [
        "# create a brand new model\n",
        "model = Net().to(device)\n",
        "optimizer = optim.SGD(model.parameters(), lr=0.001, momentum=0.9)\n",
        "# Testing -- you should get a pretty poor performance since the model hasn't learned anything yet.\n",
        "test()"
      ]
    },
    {
      "cell_type": "markdown",
      "metadata": {
        "id": "Aa3UjhnjXNTY"
      },
      "source": [
        "### Define a training loop with model checkpointing"
      ]
    },
    {
      "cell_type": "code",
      "execution_count": 74,
      "metadata": {
        "id": "eE8YBxylXNTZ"
      },
      "outputs": [],
      "source": [
        "def train_save(epoch, save_interval, log_interval=100):\n",
        "    model.train()  # set training mode\n",
        "    iteration = 0\n",
        "    for ep in range(epoch):\n",
        "        for batch_idx, (data, target) in enumerate(trainset_loader):\n",
        "            data, target = data.to(device), target.to(device)\n",
        "            optimizer.zero_grad()\n",
        "            output = model(data)\n",
        "            loss = F.nll_loss(output, target)\n",
        "            loss.backward()\n",
        "            optimizer.step()\n",
        "            if iteration % log_interval == 0:\n",
        "                print('Train Epoch: {} [{}/{} ({:.0f}%)]\\tLoss: {:.6f}'.format(\n",
        "                    ep, batch_idx * len(data), len(trainset_loader.dataset),\n",
        "                    100. * batch_idx / len(trainset_loader), loss.item()))\n",
        "            # different from before: saving model checkpoints\n",
        "            if iteration % save_interval == 0 and iteration > 0:\n",
        "                save_checkpoint('mnist-%i.pth' % iteration, model, optimizer)\n",
        "            iteration += 1\n",
        "        test()\n",
        "    \n",
        "    # save the final model\n",
        "    save_checkpoint('mnist-%i.pth' % iteration, model, optimizer)"
      ]
    },
    {
      "cell_type": "code",
      "execution_count": 75,
      "metadata": {
        "id": "ouPGhYqMXNTb",
        "colab": {
          "base_uri": "https://localhost:8080/"
        },
        "outputId": "8c2ae94f-49db-4b60-f8c6-92f593c743a7"
      },
      "outputs": [
        {
          "output_type": "stream",
          "name": "stdout",
          "text": [
            "Train Epoch: 0 [0/60000 (0%)]\tLoss: 2.331169\n",
            "Train Epoch: 0 [6400/60000 (11%)]\tLoss: 2.299035\n",
            "Train Epoch: 0 [12800/60000 (21%)]\tLoss: 2.260645\n",
            "Train Epoch: 0 [19200/60000 (32%)]\tLoss: 2.222840\n",
            "Train Epoch: 0 [25600/60000 (43%)]\tLoss: 2.128057\n",
            "Train Epoch: 0 [32000/60000 (53%)]\tLoss: 1.911608\n",
            "model saved to mnist-500.pth\n",
            "Train Epoch: 0 [38400/60000 (64%)]\tLoss: 1.560075\n",
            "Train Epoch: 0 [44800/60000 (75%)]\tLoss: 1.412762\n",
            "Train Epoch: 0 [51200/60000 (85%)]\tLoss: 1.181084\n",
            "Train Epoch: 0 [57600/60000 (96%)]\tLoss: 0.885922\n",
            "\n",
            "Test set: Average loss: 0.6028, Accuracy: 8309/10000 (83%)\n",
            "\n",
            "Train Epoch: 1 [3968/60000 (7%)]\tLoss: 0.571484\n",
            "model saved to mnist-1000.pth\n",
            "Train Epoch: 1 [10368/60000 (17%)]\tLoss: 0.532635\n",
            "Train Epoch: 1 [16768/60000 (28%)]\tLoss: 0.636021\n",
            "Train Epoch: 1 [23168/60000 (39%)]\tLoss: 0.294592\n",
            "Train Epoch: 1 [29568/60000 (49%)]\tLoss: 0.429055\n",
            "Train Epoch: 1 [35968/60000 (60%)]\tLoss: 0.295007\n",
            "model saved to mnist-1500.pth\n",
            "Train Epoch: 1 [42368/60000 (71%)]\tLoss: 0.318004\n",
            "Train Epoch: 1 [48768/60000 (81%)]\tLoss: 0.443854\n",
            "Train Epoch: 1 [55168/60000 (92%)]\tLoss: 0.448189\n",
            "\n",
            "Test set: Average loss: 0.2607, Accuracy: 9204/10000 (92%)\n",
            "\n",
            "Train Epoch: 2 [1536/60000 (3%)]\tLoss: 0.314424\n",
            "Train Epoch: 2 [7936/60000 (13%)]\tLoss: 0.205137\n",
            "model saved to mnist-2000.pth\n",
            "Train Epoch: 2 [14336/60000 (24%)]\tLoss: 0.127739\n",
            "Train Epoch: 2 [20736/60000 (35%)]\tLoss: 0.374148\n",
            "Train Epoch: 2 [27136/60000 (45%)]\tLoss: 0.251427\n",
            "Train Epoch: 2 [33536/60000 (56%)]\tLoss: 0.147457\n",
            "Train Epoch: 2 [39936/60000 (67%)]\tLoss: 0.250865\n",
            "model saved to mnist-2500.pth\n",
            "Train Epoch: 2 [46336/60000 (77%)]\tLoss: 0.371096\n",
            "Train Epoch: 2 [52736/60000 (88%)]\tLoss: 0.264683\n",
            "Train Epoch: 2 [59136/60000 (99%)]\tLoss: 0.267577\n",
            "\n",
            "Test set: Average loss: 0.1743, Accuracy: 9476/10000 (95%)\n",
            "\n",
            "Train Epoch: 3 [5504/60000 (9%)]\tLoss: 0.107071\n",
            "Train Epoch: 3 [11904/60000 (20%)]\tLoss: 0.117070\n",
            "model saved to mnist-3000.pth\n",
            "Train Epoch: 3 [18304/60000 (30%)]\tLoss: 0.151758\n",
            "Train Epoch: 3 [24704/60000 (41%)]\tLoss: 0.072221\n",
            "Train Epoch: 3 [31104/60000 (52%)]\tLoss: 0.145936\n",
            "Train Epoch: 3 [37504/60000 (62%)]\tLoss: 0.119983\n",
            "Train Epoch: 3 [43904/60000 (73%)]\tLoss: 0.124234\n",
            "model saved to mnist-3500.pth\n",
            "Train Epoch: 3 [50304/60000 (84%)]\tLoss: 0.207626\n",
            "Train Epoch: 3 [56704/60000 (94%)]\tLoss: 0.065008\n",
            "\n",
            "Test set: Average loss: 0.1488, Accuracy: 9541/10000 (95%)\n",
            "\n",
            "Train Epoch: 4 [3072/60000 (5%)]\tLoss: 0.205544\n",
            "Train Epoch: 4 [9472/60000 (16%)]\tLoss: 0.086226\n",
            "Train Epoch: 4 [15872/60000 (26%)]\tLoss: 0.181297\n",
            "model saved to mnist-4000.pth\n",
            "Train Epoch: 4 [22272/60000 (37%)]\tLoss: 0.147923\n",
            "Train Epoch: 4 [28672/60000 (48%)]\tLoss: 0.097665\n",
            "Train Epoch: 4 [35072/60000 (58%)]\tLoss: 0.103433\n",
            "Train Epoch: 4 [41472/60000 (69%)]\tLoss: 0.099990\n",
            "Train Epoch: 4 [47872/60000 (80%)]\tLoss: 0.115244\n",
            "model saved to mnist-4500.pth\n",
            "Train Epoch: 4 [54272/60000 (90%)]\tLoss: 0.139392\n",
            "\n",
            "Test set: Average loss: 0.1201, Accuracy: 9639/10000 (96%)\n",
            "\n",
            "model saved to mnist-4690.pth\n"
          ]
        }
      ],
      "source": [
        "train_save(5, save_interval=500, log_interval=100)"
      ]
    },
    {
      "cell_type": "code",
      "execution_count": 76,
      "metadata": {
        "id": "0VmLRj60XNTb",
        "colab": {
          "base_uri": "https://localhost:8080/"
        },
        "outputId": "f6d65ffb-997f-4246-d64b-10dea3c52847"
      },
      "outputs": [
        {
          "output_type": "stream",
          "name": "stdout",
          "text": [
            "model loaded from mnist-4690.pth\n",
            "\n",
            "Test set: Average loss: 0.1201, Accuracy: 9639/10000 (96%)\n",
            "\n"
          ]
        }
      ],
      "source": [
        "# create a new model\n",
        "model = Net().to(device)\n",
        "optimizer = optim.SGD(model.parameters(), lr=0.001, momentum=0.9)\n",
        "# load from the final checkpoint\n",
        "load_checkpoint('mnist-4690.pth', model, optimizer)\n",
        "# should give you the final model accuracy\n",
        "test()"
      ]
    },
    {
      "cell_type": "markdown",
      "metadata": {
        "id": "HudxE99jXNTc"
      },
      "source": [
        "## 3. Fine-tune a model\n",
        "\n",
        "Sometimes you want to fine-tune a pretrained model instead of training a model from scratch. For example, if you want to train a model on a new dataset that contains natural images. To achieve the best performance, you can start with a model that's fully trained on ImageNet and fine-tune the model.\n",
        "\n",
        "Finetuning a model in PyTorch is super easy! First, let's find out what we saved in a checkpoint"
      ]
    },
    {
      "cell_type": "code",
      "execution_count": 77,
      "metadata": {
        "id": "An_RlDqhXNTd",
        "colab": {
          "base_uri": "https://localhost:8080/"
        },
        "outputId": "cf020b25-16eb-45ac-d669-cebd8b5f68b2"
      },
      "outputs": [
        {
          "output_type": "stream",
          "name": "stdout",
          "text": [
            "odict_keys(['conv1.weight', 'conv1.bias', 'conv2.weight', 'conv2.bias', 'fc1.weight', 'fc1.bias', 'fc2.weight', 'fc2.bias'])\n"
          ]
        }
      ],
      "source": [
        "# What's in a state dict?\n",
        "print(model.state_dict().keys())"
      ]
    },
    {
      "cell_type": "markdown",
      "metadata": {
        "id": "yEj1e0MpXNTd"
      },
      "source": [
        "### Finetune the fc layers\n",
        "\n",
        "Now say we want to load the conv layers from the checkpoint and train the fc layers. We can simply load a subset of the state dict with the selected names"
      ]
    },
    {
      "cell_type": "code",
      "execution_count": 78,
      "metadata": {
        "id": "C340f6IaXNTe",
        "colab": {
          "base_uri": "https://localhost:8080/"
        },
        "outputId": "86283254-8ce9-4a31-9330-8417aa0ae603"
      },
      "outputs": [
        {
          "output_type": "stream",
          "name": "stdout",
          "text": [
            "Number of parameter variables to load: 4\n",
            "Number of parameter variables in the model: 8\n"
          ]
        }
      ],
      "source": [
        "checkpoint = torch.load('mnist-4690.pth')\n",
        "states_to_load = {}\n",
        "for name, param in checkpoint['state_dict'].items():\n",
        "    if name.startswith('conv'):\n",
        "        # only load the conv layers\n",
        "        states_to_load[name] = param\n",
        "print(\"Number of parameter variables to load:\", len(states_to_load))\n",
        "\n",
        "# Construct a new state_dict in which the layers we want\n",
        "# to import from the checkpoint is updated with the parameters\n",
        "# from the checkpoint\n",
        "model = Net().to(device)\n",
        "model_state = model.state_dict()\n",
        "print(\"Number of parameter variables in the model:\", len(model_state))\n",
        "model_state.update(states_to_load)\n",
        "        \n",
        "model.load_state_dict(model_state)\n",
        "optimizer = optim.SGD(model.parameters(), lr=0.001, momentum=0.9)"
      ]
    },
    {
      "cell_type": "code",
      "execution_count": 79,
      "metadata": {
        "id": "JJsGdkTbXNTf",
        "colab": {
          "base_uri": "https://localhost:8080/"
        },
        "outputId": "019854af-dae6-4dba-d863-7053bc687184"
      },
      "outputs": [
        {
          "output_type": "stream",
          "name": "stdout",
          "text": [
            "\n",
            "Test set: Average loss: 2.5459, Accuracy: 518/10000 (5%)\n",
            "\n",
            "Train Epoch: 0 [0/60000 (0%)]\tLoss: 3.560303\n",
            "Train Epoch: 0 [6400/60000 (11%)]\tLoss: 1.578471\n",
            "Train Epoch: 0 [12800/60000 (21%)]\tLoss: 1.167480\n",
            "Train Epoch: 0 [19200/60000 (32%)]\tLoss: 0.902596\n",
            "Train Epoch: 0 [25600/60000 (43%)]\tLoss: 1.216293\n",
            "Train Epoch: 0 [32000/60000 (53%)]\tLoss: 0.797082\n",
            "Train Epoch: 0 [38400/60000 (64%)]\tLoss: 0.968347\n",
            "Train Epoch: 0 [44800/60000 (75%)]\tLoss: 0.548250\n",
            "Train Epoch: 0 [51200/60000 (85%)]\tLoss: 0.737823\n",
            "Train Epoch: 0 [57600/60000 (96%)]\tLoss: 0.527814\n",
            "8.67s\n",
            "\n",
            "Test set: Average loss: 0.2803, Accuracy: 9283/10000 (93%)\n",
            "\n"
          ]
        }
      ],
      "source": [
        "test() # without fine-tuning.\n",
        "\n",
        "train(1)  # training 1 epoch will get you to 93%!\n",
        "# As a comparison, training from scratch for 1 epoch gets about ~80% test accuracy."
      ]
    },
    {
      "cell_type": "markdown",
      "metadata": {
        "id": "8Kzba39GXNTg"
      },
      "source": [
        "### Import pretrained weights in a different model\n",
        "\n",
        "We can even use the pretrained conv layers in a different model."
      ]
    },
    {
      "cell_type": "code",
      "execution_count": 80,
      "metadata": {
        "id": "GH13HHkQXNTh"
      },
      "outputs": [],
      "source": [
        "class SmallNet(nn.Module):\n",
        "    def __init__(self):\n",
        "        super(SmallNet, self).__init__()\n",
        "        # same conv layers\n",
        "        self.conv1 = nn.Conv2d(1, 10, kernel_size=5)\n",
        "        self.conv2 = nn.Conv2d(10, 20, kernel_size=5)\n",
        "        self.conv2_drop = nn.Dropout2d()\n",
        "        # fewer FC layers\n",
        "        self.fc1 = nn.Linear(320, 10)\n",
        "\n",
        "    def forward(self, x):\n",
        "        # Do not update our convolutional layers!\n",
        "        with torch.no_grad():\n",
        "            x = F.relu(F.max_pool2d(self.conv1(x), 2))\n",
        "            x = F.relu(F.max_pool2d(self.conv2_drop(self.conv2(x)), 2))\n",
        "            x = x.view(-1, 320)\n",
        "        x = self.fc1(x)\n",
        "        return F.log_softmax(x, dim=1)\n",
        "\n",
        "model = SmallNet().to(device)\n",
        "optimizer = optim.SGD(model.parameters(), lr=0.001, momentum=0.9)"
      ]
    },
    {
      "cell_type": "code",
      "execution_count": 81,
      "metadata": {
        "id": "boErrUS4XNTi",
        "colab": {
          "base_uri": "https://localhost:8080/"
        },
        "outputId": "7c178f61-815a-4468-d44d-0a9ff7e531bd"
      },
      "outputs": [
        {
          "output_type": "stream",
          "name": "stdout",
          "text": [
            "\n",
            "Test set: Average loss: 2.3000, Accuracy: 1417/10000 (14%)\n",
            "\n"
          ]
        },
        {
          "output_type": "execute_result",
          "data": {
            "text/plain": [
              "<All keys matched successfully>"
            ]
          },
          "metadata": {},
          "execution_count": 81
        }
      ],
      "source": [
        "checkpoint = torch.load('mnist-4690.pth')\n",
        "states_to_load = {}\n",
        "for name, param in checkpoint['state_dict'].items():\n",
        "    if name.startswith('conv'):\n",
        "        states_to_load[name] = param\n",
        "\n",
        "# Construct a new state dict in which the layers we want\n",
        "# to import from the checkpoint is update with the parameters\n",
        "# from the checkpoint\n",
        "model_state = model.state_dict()\n",
        "model_state.update(states_to_load)\n",
        "        \n",
        "test()\n",
        "\n",
        "model.load_state_dict(model_state)"
      ]
    },
    {
      "cell_type": "code",
      "execution_count": 82,
      "metadata": {
        "id": "UGU1s-nxXNTj",
        "colab": {
          "base_uri": "https://localhost:8080/"
        },
        "outputId": "6878895e-3392-47e8-cedb-4fb4aaf8f576"
      },
      "outputs": [
        {
          "output_type": "stream",
          "name": "stdout",
          "text": [
            "Train Epoch: 0 [0/60000 (0%)]\tLoss: 4.694560\n",
            "Train Epoch: 0 [6400/60000 (11%)]\tLoss: 0.635323\n",
            "Train Epoch: 0 [12800/60000 (21%)]\tLoss: 0.394521\n",
            "Train Epoch: 0 [19200/60000 (32%)]\tLoss: 0.266497\n",
            "Train Epoch: 0 [25600/60000 (43%)]\tLoss: 0.442439\n",
            "Train Epoch: 0 [32000/60000 (53%)]\tLoss: 0.268142\n",
            "Train Epoch: 0 [38400/60000 (64%)]\tLoss: 0.257068\n",
            "Train Epoch: 0 [44800/60000 (75%)]\tLoss: 0.173957\n",
            "Train Epoch: 0 [51200/60000 (85%)]\tLoss: 0.323165\n",
            "Train Epoch: 0 [57600/60000 (96%)]\tLoss: 0.262910\n",
            "8.39s\n",
            "\n",
            "Test set: Average loss: 0.1980, Accuracy: 9399/10000 (94%)\n",
            "\n"
          ]
        }
      ],
      "source": [
        "train(1)  # training 1 epoch will get you to ~93%!"
      ]
    },
    {
      "cell_type": "markdown",
      "metadata": {
        "id": "Jsr-vQVWXNTk"
      },
      "source": [
        "### Clean up your code with nn.Sequential"
      ]
    },
    {
      "cell_type": "code",
      "execution_count": 83,
      "metadata": {
        "id": "8HHViyXCXNTk"
      },
      "outputs": [],
      "source": [
        "class NetSeq(nn.Module):\n",
        "    def __init__(self):\n",
        "        super(NetSeq, self).__init__()\n",
        "\n",
        "        # conv layers: feature extractor\n",
        "        self.conv_layers = nn.Sequential(\n",
        "            nn.Conv2d(1, 10, kernel_size=5),\n",
        "            nn.MaxPool2d(2),\n",
        "            nn.ReLU(),\n",
        "            nn.Conv2d(10, 20, kernel_size=5),\n",
        "            nn.Dropout2d(),\n",
        "            nn.MaxPool2d(2),\n",
        "            nn.ReLU()\n",
        "        )\n",
        "        \n",
        "        # fc layers: classifier\n",
        "        self.fc_layers = nn.Sequential(\n",
        "            nn.Linear(320, 50),\n",
        "            nn.ReLU(),\n",
        "            nn.Dropout(),\n",
        "            nn.Linear(50, 10),\n",
        "        )\n",
        "\n",
        "    def forward(self, x):\n",
        "        # Again, do not update our covolutional layers!\n",
        "        with torch.no_grad():\n",
        "            x = self.conv_layers(x)\n",
        "            x = x.view(-1, 320)\n",
        "        x = self.fc_layers(x)\n",
        "        return F.log_softmax(x, dim=1)\n",
        "\n",
        "model = NetSeq().to(device)\n",
        "optimizer = optim.SGD(model.parameters(), lr=0.001, momentum=0.9)"
      ]
    },
    {
      "cell_type": "code",
      "execution_count": 84,
      "metadata": {
        "id": "1xdYLmVdXNTm",
        "colab": {
          "base_uri": "https://localhost:8080/"
        },
        "outputId": "bb2d27c3-9601-43c1-ab78-734ae293baf8"
      },
      "outputs": [
        {
          "output_type": "stream",
          "name": "stdout",
          "text": [
            "Train Epoch: 0 [0/60000 (0%)]\tLoss: 2.314641\n",
            "Train Epoch: 0 [6400/60000 (11%)]\tLoss: 2.315303\n",
            "Train Epoch: 0 [12800/60000 (21%)]\tLoss: 2.269709\n",
            "Train Epoch: 0 [19200/60000 (32%)]\tLoss: 2.295600\n",
            "Train Epoch: 0 [25600/60000 (43%)]\tLoss: 2.287675\n",
            "Train Epoch: 0 [32000/60000 (53%)]\tLoss: 2.256717\n",
            "Train Epoch: 0 [38400/60000 (64%)]\tLoss: 2.277301\n",
            "Train Epoch: 0 [44800/60000 (75%)]\tLoss: 2.254388\n",
            "Train Epoch: 0 [51200/60000 (85%)]\tLoss: 2.248882\n",
            "Train Epoch: 0 [57600/60000 (96%)]\tLoss: 2.223422\n",
            "8.68s\n",
            "\n",
            "Test set: Average loss: 2.2340, Accuracy: 3371/10000 (34%)\n",
            "\n",
            "Train Epoch: 1 [3968/60000 (7%)]\tLoss: 2.234772\n",
            "Train Epoch: 1 [10368/60000 (17%)]\tLoss: 2.211421\n",
            "Train Epoch: 1 [16768/60000 (28%)]\tLoss: 2.196391\n",
            "Train Epoch: 1 [23168/60000 (39%)]\tLoss: 2.201847\n",
            "Train Epoch: 1 [29568/60000 (49%)]\tLoss: 2.145507\n",
            "Train Epoch: 1 [35968/60000 (60%)]\tLoss: 2.124020\n",
            "Train Epoch: 1 [42368/60000 (71%)]\tLoss: 2.133826\n",
            "Train Epoch: 1 [48768/60000 (81%)]\tLoss: 2.060689\n",
            "Train Epoch: 1 [55168/60000 (92%)]\tLoss: 2.068872\n",
            "8.66s\n",
            "\n",
            "Test set: Average loss: 1.9898, Accuracy: 4911/10000 (49%)\n",
            "\n",
            "Train Epoch: 2 [1536/60000 (3%)]\tLoss: 2.018358\n",
            "Train Epoch: 2 [7936/60000 (13%)]\tLoss: 1.920999\n",
            "Train Epoch: 2 [14336/60000 (24%)]\tLoss: 1.818599\n",
            "Train Epoch: 2 [20736/60000 (35%)]\tLoss: 1.830316\n",
            "Train Epoch: 2 [27136/60000 (45%)]\tLoss: 1.777810\n",
            "Train Epoch: 2 [33536/60000 (56%)]\tLoss: 1.720322\n",
            "Train Epoch: 2 [39936/60000 (67%)]\tLoss: 1.701580\n",
            "Train Epoch: 2 [46336/60000 (77%)]\tLoss: 1.728825\n",
            "Train Epoch: 2 [52736/60000 (88%)]\tLoss: 1.536244\n",
            "Train Epoch: 2 [59136/60000 (99%)]\tLoss: 1.508719\n",
            "8.16s\n",
            "\n",
            "Test set: Average loss: 1.5744, Accuracy: 6533/10000 (65%)\n",
            "\n",
            "Train Epoch: 3 [5504/60000 (9%)]\tLoss: 1.552818\n",
            "Train Epoch: 3 [11904/60000 (20%)]\tLoss: 1.461873\n",
            "Train Epoch: 3 [18304/60000 (30%)]\tLoss: 1.426494\n",
            "Train Epoch: 3 [24704/60000 (41%)]\tLoss: 1.435364\n",
            "Train Epoch: 3 [31104/60000 (52%)]\tLoss: 1.277597\n",
            "Train Epoch: 3 [37504/60000 (62%)]\tLoss: 1.438569\n",
            "Train Epoch: 3 [43904/60000 (73%)]\tLoss: 1.272274\n",
            "Train Epoch: 3 [50304/60000 (84%)]\tLoss: 1.362374\n",
            "Train Epoch: 3 [56704/60000 (94%)]\tLoss: 1.270834\n",
            "8.53s\n",
            "\n",
            "Test set: Average loss: 1.2142, Accuracy: 7383/10000 (74%)\n",
            "\n",
            "Train Epoch: 4 [3072/60000 (5%)]\tLoss: 1.202061\n",
            "Train Epoch: 4 [9472/60000 (16%)]\tLoss: 1.126695\n",
            "Train Epoch: 4 [15872/60000 (26%)]\tLoss: 1.203554\n",
            "Train Epoch: 4 [22272/60000 (37%)]\tLoss: 1.210745\n",
            "Train Epoch: 4 [28672/60000 (48%)]\tLoss: 1.135188\n",
            "Train Epoch: 4 [35072/60000 (58%)]\tLoss: 1.114854\n",
            "Train Epoch: 4 [41472/60000 (69%)]\tLoss: 0.972611\n",
            "Train Epoch: 4 [47872/60000 (80%)]\tLoss: 1.099491\n",
            "Train Epoch: 4 [54272/60000 (90%)]\tLoss: 0.985455\n",
            "8.67s\n",
            "\n",
            "Test set: Average loss: 0.9667, Accuracy: 7680/10000 (77%)\n",
            "\n"
          ]
        }
      ],
      "source": [
        "train(5)"
      ]
    }
  ],
  "metadata": {
    "kernelspec": {
      "display_name": "Python 3",
      "language": "python",
      "name": "python3"
    },
    "language_info": {
      "codemirror_mode": {
        "name": "ipython",
        "version": 3
      },
      "file_extension": ".py",
      "mimetype": "text/x-python",
      "name": "python",
      "nbconvert_exporter": "python",
      "pygments_lexer": "ipython3",
      "version": "3.7.1"
    },
    "colab": {
      "provenance": [],
      "collapsed_sections": [
        "HpN12XL-XNTK",
        "Aa3UjhnjXNTY"
      ],
      "gpuType": "T4",
      "include_colab_link": true
    },
    "accelerator": "GPU",
    "gpuClass": "standard"
  },
  "nbformat": 4,
  "nbformat_minor": 0
}